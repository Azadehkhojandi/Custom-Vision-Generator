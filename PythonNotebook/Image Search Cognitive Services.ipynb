{
 "cells": [
  {
   "cell_type": "code",
   "execution_count": null,
   "metadata": {},
   "outputs": [],
   "source": [
    "! /anaconda/envs/py35/bin/python -m pip install azure-cognitiveservices-search-imagesearch"
   ]
  },
  {
   "cell_type": "code",
   "execution_count": null,
   "metadata": {},
   "outputs": [],
   "source": [
    "! /anaconda/envs/py35/bin/python -m pip install azure-cognitiveservices-vision-customvision"
   ]
  },
  {
   "cell_type": "markdown",
   "metadata": {},
   "source": [
    "CustomVision.ai is a service from Microsoft that builds an image classifier using a transfer learning technique to produce a model that can be consumed via a webservice end point or exported as a compact model and used disconnected on a mobile or windows device. \n",
    "\n",
    "To avoid overfitting and increase the size of the training dataset you can use image augmentation techniques. \n",
    "\n",
    "The image search service can source a set of images to train your classifier."
   ]
  },
  {
   "cell_type": "code",
   "execution_count": 1,
   "metadata": {},
   "outputs": [
    {
     "name": "stderr",
     "output_type": "stream",
     "text": [
      "WARNING:root:Keras version 2.1.5 detected. Last version known to be fully compatible of Keras is 2.1.3 .\n",
      "WARNING:root:TensorFlow version 1.7.0 detected. Last version known to be fully compatible is 1.5.0 .\n"
     ]
    }
   ],
   "source": [
    "import platform \n",
    "\n",
    "from azure.cognitiveservices.search.imagesearch import ImageSearchAPI\n",
    "from azure.cognitiveservices.search.imagesearch.models import ImageType, ImageAspect, ImageInsightModule\n",
    "from msrest.authentication import CognitiveServicesCredentials\n",
    "\n",
    "import os\n",
    "import shutil\n",
    "\n",
    "import urllib.request\n",
    "import uuid\n",
    "\n",
    "from pathlib import Path\n",
    "import matplotlib.pyplot as plt\n",
    "from PIL import Image, ImageChops, ImageOps\n",
    "%matplotlib inline\n",
    "\n",
    "import cv2\n",
    "import numpy as np\n",
    "\n",
    "from imutils import paths\n",
    "from glob import glob\n",
    "import skimage.io as io\n",
    "\n",
    "from sklearn.preprocessing import LabelEncoder\n",
    "from sklearn.model_selection import train_test_split\n",
    "from sklearn.metrics import confusion_matrix\n",
    "\n",
    "from azure.cognitiveservices.vision.customvision.prediction import prediction_endpoint\n",
    "from azure.cognitiveservices.vision.customvision.prediction.prediction_endpoint import models\n",
    "from azure.cognitiveservices.vision.customvision.training import training_api\n",
    "from azure.cognitiveservices.vision.customvision.training.models import ImageUrlCreateEntry\n",
    "\n",
    "import imgaug as ia\n",
    "from imgaug import augmenters as iaa\n",
    "\n",
    "from random import randint\n",
    "import time\n",
    "\n",
    "from sklearn.metrics import classification_report\n",
    "import itertools\n",
    "\n",
    "from coremltools.models.utils import load_spec\n",
    "from winmltools import convert_coreml\n",
    "from winmltools.utils import save_model"
   ]
  },
  {
   "cell_type": "code",
   "execution_count": 2,
   "metadata": {},
   "outputs": [],
    "source": [
        "projectName = \"anzbirds\"\n",
        "labelSet = ([\"sulphur crested cockatoo\",\"cockatoo\"],  [\"fantail bird\",\"fantail\"], [\"kaka parrot\",\"kaka\"], [\"kea parrot\",\"kea\"], [\"kakapo\",\"kakapo\"], [\"kiwi bird\",\"kiwi\"], [\"kokako bird\",\"kokako\"], [\"morepork bird\",\"morepork\"], [\"tui bird\",\"tui\"])\n",
        "#labelSet = ([\"sulphur crested cockatoo\",\"cockatoo\"],  [\"fantail bird\",\"fantail\"])\n",
        "\n",
        "dataFolderName = 'data'\n",
        "imageFolderName = projectName+'_images'\n",
        "splitFolderName = projectName+'_images_test_train'\n",
        "sep = '\\\\' #use for Windows\n",
        "if (platform.system()=='Linux'):\n",
        "    sep = '/'\n",
        "\n",
        "testDirName = 'test'\n",
        "trainDirName = 'train'\n",
        "validDirName = 'valid'\n",
        "modelDirName = 'model'\n",
        "\n",
        "# Replace with valid keys\n",
        "training_key = \"\" # put your customvision.ai training key in here\n",
        "prediction_key = \"\" # put your customvision.ai prediction key in here\n",
        "subscription_key = \"\" # put your bing image search key in here\n",
        "\n",
        "project_id=\"\" # leave this blank unless you are working against an existing project in customvision.ai\n",
        "iteration_id = \"\" # leave this blank unless you are working against an existing training set in customvision.ai\n",
        "\n",
        "img_dir = dataFolderName+sep+imageFolderName\n",
        "test_train_dir = dataFolderName+sep+splitFolderName\n",
        "test_dir = test_train_dir+sep+testDirName\n",
        "train_dir = test_train_dir+sep+trainDirName\n",
        "valid_dir = test_train_dir+sep+validDirName\n",
        "model_dir = test_train_dir+sep+modelDirName\n",
        "\n",
        "num_augmentations = 5 # now many sets of image augmentations do you want to perform? A larger number will take longer and potentially reduce recall but will also reduce the risk of overfitting\n",
        "\n",
        "num_images = 100\n",
        "page_size = 50\n",
        "offset = 0\n",
        "final_dim = 299 #256\n",
        "#border = 10\n",
        "minWH=300"
    ]
  },
  {
   "cell_type": "code",
   "execution_count": 3,
   "metadata": {},
   "outputs": [],
   "source": [
    "client = ImageSearchAPI(CognitiveServicesCredentials(subscription_key))"
   ]
  },
  {
   "cell_type": "code",
   "execution_count": 4,
   "metadata": {},
   "outputs": [],
   "source": [
    "# remove and recreate the training directories\n",
    "if os.path.exists(img_dir):\n",
    "    shutil.rmtree(img_dir, ignore_errors=True)\n",
    "\n",
    "os.makedirs(img_dir)"
   ]
  },
  {
   "cell_type": "code",
   "execution_count": 5,
   "metadata": {},
   "outputs": [
    {
     "name": "stdout",
     "output_type": "stream",
     "text": [
      "cockatoo\n",
      "[INFO] processed 100/100\n",
      "fantail\n",
      "[INFO] processed 100/100\n",
      "kaka\n",
      "[INFO] processed 100/100\n",
      "kea\n",
      "[INFO] processed 100/100\n",
      "kakapo\n",
      "[INFO] processed 100/100\n",
      "kiwi\n",
      "kokako\n",
      "[INFO] processed 100/100\n",
      "morepork\n",
      "[INFO] processed 100/100\n",
      "tui\n",
      "[INFO] processed 100/100\n"
     ]
    }
   ],
   "source": [
    "for (i, searchLabel) in enumerate(labelSet):\n",
    "    offset = 0\n",
    "    x = 0\n",
    "    \n",
    "    dir_Nm = searchLabel[1]\n",
    "    print(dir_Nm)\n",
    "    \n",
    "    full_dir_Nm = img_dir+sep+dir_Nm\n",
    "    if not os.path.exists(full_dir_Nm):\n",
    "        os.makedirs(full_dir_Nm)\n",
    "        \n",
    "    max_images = num_images\n",
    "    \n",
    "    #https://docs.microsoft.com/en-au/rest/api/cognitiveservices/bing-images-api-v7-reference\n",
    "    \n",
    "    while (offset < max_images):\n",
    "        image_results = client.images.search(\n",
    "            query=searchLabel[0],\n",
    "            image_type=ImageType(\"Photo\"), \n",
    "            minWidth=str(minWH),\n",
    "            minHeight=str(minWH),\n",
    "            count=str(page_size),\n",
    "            offset=str(offset)\n",
    "            #,aspect=ImageAspect(\"Square\")\n",
    "            #,license=License(\"Public\") #When doing this be aware of the license of the underlying images and set the flag on the api appropriately.\n",
    "        )\n",
    "\n",
    "        if image_results.value:\n",
    "            if (image_results.total_estimated_matches<max_images):\n",
    "                max_images = image_results.total_estimated_matches\n",
    "            offset=offset+page_size\n",
    "            \n",
    "            for img in image_results.value:\n",
    "                x = x+1\n",
    "                with urllib.request.urlopen(img.thumbnail_url) as response, open(full_dir_Nm+sep+uuid.uuid4().hex+\".jpg\", 'wb') as out_file:\n",
    "                    data = response.read() # a `bytes` object\n",
    "                    out_file.write(data)\n",
    "                if x > 0 and x % 100 == 0:\n",
    "                    print(\"[INFO] processed {}/{}\".format(x, max_images))\n",
    "        else:\n",
    "            print(\"Couldn't find image results!\")\n",
    "            offset = max_images"
   ]
  },
  {
   "cell_type": "code",
   "execution_count": 6,
   "metadata": {},
   "outputs": [],
   "source": [
    "def makeThumb(image, pad=True):\n",
    "    size=(final_dim,final_dim)\n",
    "    image.thumbnail(size, Image.ANTIALIAS)\n",
    "    image_size = image.size\n",
    "\n",
    "    if pad:\n",
    "        thumb = image.crop( (0, 0, size[0], size[1]) )\n",
    "        offset_x = int(max( (size[0] - image_size[0]) / 2, 0 ))\n",
    "        offset_y = int(max( (size[1] - image_size[1]) / 2, 0 ))\n",
    "        thumb = ImageChops.offset(thumb, offset_x, offset_y)\n",
    "    else:\n",
    "        thumb = ImageOps.fit(image, size, Image.ANTIALIAS, (0.5, 0.5))\n",
    "\n",
    "    return thumb"
   ]
  },
  {
   "cell_type": "code",
   "execution_count": 7,
   "metadata": {},
   "outputs": [],
   "source": [
    "def resize_eq(im_pth):\n",
    "    im_pth = str(im_pth)\n",
    "    \n",
    "    img = cv2.imread(im_pth)\n",
    "    img_yuv = cv2.cvtColor(img, cv2.COLOR_BGR2YUV)\n",
    "    # equalize the histogram of the Y channel\n",
    "    img_yuv[:,:,0] = cv2.equalizeHist(img_yuv[:,:,0])\n",
    "    # convert the YUV image back to RGB format\n",
    "    img_output = cv2.cvtColor(img_yuv, cv2.COLOR_YUV2BGR)\n",
    "    img = Image.fromarray(img_output, 'RGB')\n",
    "    \n",
    "    img = makeThumb(img, pad=True)\n",
    "    img.save(im_pth)\n",
    "    \n",
    "    #img = Image.open(im_pth)\n",
    "    #img = ImageOps.expand(img, border=border, fill='white')\n",
    "    #img = ImageOps.fit(img, size=(final_dim,final_dim))\n",
    "    #img = ImageOps.equalize(img)"
   ]
  },
  {
   "cell_type": "code",
   "execution_count": 8,
   "metadata": {},
   "outputs": [],
   "source": [
    "pathlist = Path(img_dir).glob('**/*.jpg')\n",
    "for path in pathlist:\n",
    "    resize_eq(path)"
   ]
  },
  {
   "cell_type": "code",
   "execution_count": 9,
   "metadata": {},
   "outputs": [
    {
     "name": "stdout",
     "output_type": "stream",
     "text": [
      "There are 9 total categories.\n",
      "['cockatoo', 'fantail', 'kaka', 'kakapo', 'kea', 'kiwi', 'kokako', 'morepork', 'tui']\n",
      "There are 674 total images.\n"
     ]
    }
   ],
   "source": [
    "imagePaths = list(paths.list_images(img_dir))\n",
    "\n",
    "categories = [item[len(img_dir)+1:-1] for item in sorted(glob(img_dir+sep+\"*\"+sep))]\n",
    "print('There are %d total categories.' % len(categories))\n",
    "print(categories)\n",
    "\n",
    "if not os.path.exists(model_dir):\n",
    "    os.makedirs(model_dir)\n",
    "\n",
    "#create the categories in the train and test directory if they don't exist\n",
    "for (c) in enumerate(categories):\n",
    "    if not os.path.exists(test_dir+sep+str(c[1])):\n",
    "        os.makedirs(test_dir+sep+str(c[1]))\n",
    "    if not os.path.exists(train_dir+sep+str(c[1])):\n",
    "        os.makedirs(train_dir+sep+str(c[1]))\n",
    "    if not os.path.exists(valid_dir+sep+str(c[1])):\n",
    "        os.makedirs(valid_dir+sep+str(c[1]))\n",
    "\n",
    "ic = io.ImageCollection(glob(img_dir+sep+\"*\"+sep+\"*.jpg\"))\n",
    "print('There are %d total images.' % len(ic))"
   ]
  },
  {
   "cell_type": "code",
   "execution_count": 10,
   "metadata": {},
   "outputs": [],
   "source": [
    "imagePaths = list(paths.list_images(img_dir))\n",
    "\n",
    "# initialize the data matrix and labels list\n",
    "data = []\n",
    "labels = []"
   ]
  },
  {
   "cell_type": "code",
   "execution_count": 11,
   "metadata": {},
   "outputs": [
    {
     "name": "stdout",
     "output_type": "stream",
     "text": [
      "[INFO] processed 500/674\n"
     ]
    }
   ],
   "source": [
    "# loop over the input images\n",
    "for (i, imagePath) in enumerate(imagePaths):\n",
    "    image = cv2.imread(imagePath)\n",
    "    label = imagePath.split(os.path.sep)[-2]\n",
    "    \n",
    "    data.append(image.flatten())\n",
    "    labels.append(label)\n",
    "    \n",
    "    # show an update every 500 images\n",
    "    if i > 0 and i % 500 == 0:\n",
    "        print(\"[INFO] processed {}/{}\".format(i, len(imagePaths)))"
   ]
  },
  {
   "cell_type": "code",
   "execution_count": 12,
   "metadata": {},
   "outputs": [],
   "source": [
    "# encode the labels, converting them from strings to integers\n",
    "le = LabelEncoder()\n",
    "labels = le.fit_transform(labels)"
   ]
  },
  {
   "cell_type": "code",
   "execution_count": 13,
   "metadata": {},
   "outputs": [
    {
     "name": "stdout",
     "output_type": "stream",
     "text": [
      "[INFO] constructing training/testing split...\n"
     ]
    }
   ],
   "source": [
    "# partition the data into training and testing splits, using 80%\n",
    "# of the data for training and the remaining 20% for testing\n",
    "print(\"[INFO] constructing training/testing split...\")\n",
    "(trainData, testData, trainLabels, testLabels) = train_test_split(np.array(data), labels, test_size=0.20, random_state=21)"
   ]
  },
  {
   "cell_type": "code",
   "execution_count": 14,
   "metadata": {},
   "outputs": [
    {
     "name": "stdout",
     "output_type": "stream",
     "text": [
      "Created Project - anzbirds (1) : 679881a9-8d47-41b9-a028-1b8f79d862fd\n"
     ]
    }
   ],
   "source": [
    "# https://docs.microsoft.com/en-us/python/api/azure.cognitiveservices.vision.customvision?view=azure-python\n",
    "\n",
    "trainer = training_api.TrainingApi(training_key)\n",
    "\n",
    "#domains = trainer.get_domains()\n",
    "#for (i, domain) in enumerate(domains):\n",
    "    #print(domain)\n",
    "\n",
    "# Create a new project\n",
    "if (project_id==\"\"):\n",
    "    project = trainer.create_project(projectName, domain_id='0732100f-1a38-4e49-a514-c9b44c697ab5') #General (compact) domain - exportable\n",
    "    project_id = project.id\n",
    "    print(\"Created Project - \"+project.name+\" : \"+project.id)\n"
   ]
  },
  {
   "cell_type": "code",
   "execution_count": 15,
   "metadata": {},
   "outputs": [],
   "source": [
    "def createSetTag(label):\n",
    "    if (tags[label] is None):\n",
    "        tags[label] = trainer.create_tag(project_id, label)"
   ]
  },
  {
   "cell_type": "code",
   "execution_count": 16,
   "metadata": {},
   "outputs": [],
   "source": [
    "tags = dict((l,None) for l in categories)\n",
    "for i in range(len(categories)):\n",
    "    createSetTag(str(categories[i]))"
   ]
  },
  {
   "cell_type": "code",
   "execution_count": 17,
   "metadata": {},
   "outputs": [],
   "source": [
    "# use this if you would like to augment your imageset to increase the number of examples\n",
    "def augmentImages(trainSet):\n",
    "    ia.seed(randint(0,99))\n",
    "\n",
    "    seq = iaa.Sequential([\n",
    "        iaa.Fliplr(0.5), # horizontal flips 50% of the images\n",
    "        iaa.Crop(percent=(0, 0.1)), # random crops\n",
    "        # Small gaussian blur with random sigma between 0 and 0.5.\n",
    "        # But we only blur about 50% of all images.\n",
    "        iaa.Sometimes(0.5,\n",
    "            iaa.GaussianBlur(sigma=(0, 0.5))\n",
    "        ),\n",
    "        # Strengthen or weaken the contrast in each image.\n",
    "        iaa.ContrastNormalization((0.75, 1.5)),\n",
    "        # Add gaussian noise.\n",
    "        # For 50% of all images, we sample the noise once per pixel.\n",
    "        # For the other 50% of all images, we sample the noise per pixel AND\n",
    "        # channel. This can change the color (not only brightness) of the\n",
    "        # pixels.\n",
    "        iaa.AdditiveGaussianNoise(loc=0, scale=(0.0, 0.05*255), per_channel=0.5),\n",
    "        # Make some images brighter and some darker.\n",
    "        # In 20% of all cases, we sample the multiplier once per channel,\n",
    "        # which can end up changing the color of the images.\n",
    "        iaa.Multiply((0.8, 1.2), per_channel=0.2),\n",
    "        # Apply affine transformations to each image.\n",
    "        # Scale/zoom them, translate/move them, rotate them and shear them.\n",
    "        iaa.Affine(\n",
    "            scale={\"x\": (0.8, 1.2), \"y\": (0.8, 1.2)},\n",
    "            translate_percent={\"x\": (-0.2, 0.2), \"y\": (-0.2, 0.2)},\n",
    "            rotate=(-25, 25),\n",
    "            shear=(-8, 8)\n",
    "        )\n",
    "    ], random_order=True) # apply augmenters in random order\n",
    "\n",
    "    images_aug = seq.augment_images(trainSet)\n",
    "    return images_aug"
   ]
  },
  {
   "cell_type": "code",
   "execution_count": 18,
   "metadata": {},
   "outputs": [],
   "source": [
    "def uploadTrainingSet(trainData):\n",
    "\n",
    "    for (i, data) in enumerate(trainData):\n",
    "        tagname = str(le.classes_[trainLabels[i]])\n",
    "        imagePath = train_dir+sep+tagname+sep+uuid.uuid4().hex+\".jpg\"\n",
    "        out = Image.fromarray(data.reshape(final_dim,final_dim,3),\"RGB\").save(imagePath)\n",
    "        with open(os.fsdecode(imagePath), mode=\"rb\") as img_data: \n",
    "            trainer.create_images_from_data(project.id, img_data.read(), [ tags[tagname].id ])\n",
    "\n",
    "        # show an update every 100 images\n",
    "        if i > 0 and i % 100 == 0:\n",
    "            print(\"[INFO] processed {}/{}\".format(i, len(trainData)))"
   ]
  },
  {
   "cell_type": "code",
   "execution_count": 19,
   "metadata": {},
   "outputs": [
    {
     "name": "stdout",
     "output_type": "stream",
     "text": [
      "[INFO] processed 100/539\n",
      "[INFO] processed 200/539\n",
      "[INFO] processed 300/539\n",
      "[INFO] processed 400/539\n",
      "[INFO] processed 500/539\n"
     ]
    }
   ],
   "source": [
    "uploadTrainingSet(trainData)"
   ]
  },
  {
   "cell_type": "code",
   "execution_count": 20,
   "metadata": {},
   "outputs": [
    {
     "name": "stdout",
     "output_type": "stream",
     "text": [
      "[INFO] processed 100/539\n",
      "[INFO] processed 200/539\n",
      "[INFO] processed 300/539\n",
      "[INFO] processed 400/539\n",
      "[INFO] processed 500/539\n",
      "[INFO] processed 100/539\n",
      "[INFO] processed 200/539\n",
      "[INFO] processed 300/539\n",
      "[INFO] processed 400/539\n",
      "[INFO] processed 500/539\n",
      "[INFO] processed 100/539\n",
      "[INFO] processed 200/539\n",
      "[INFO] processed 300/539\n",
      "[INFO] processed 400/539\n",
      "[INFO] processed 500/539\n",
      "[INFO] processed 100/539\n",
      "[INFO] processed 200/539\n",
      "[INFO] processed 300/539\n",
      "[INFO] processed 400/539\n",
      "[INFO] processed 500/539\n",
      "[INFO] processed 100/539\n",
      "[INFO] processed 200/539\n",
      "[INFO] processed 300/539\n",
      "[INFO] processed 400/539\n",
      "[INFO] processed 500/539\n"
     ]
    }
   ],
   "source": [
    "i = 0\n",
    "while(i < num_augmentations):\n",
    "    print(\"[INFO] augmentation number {}/{}\".format((i+1), num_augmentations))\n",
    "    images_aug = augmentImages(trainData.reshape(len(trainData),final_dim,final_dim,3))\n",
    "    uploadTrainingSet(images_aug) #upload the augmented data set\n",
    "    i += 1"
   ]
  },
  {
   "cell_type": "code",
   "execution_count": 21,
   "metadata": {},
   "outputs": [
    {
     "data": {
      "text/plain": [
       "<matplotlib.image.AxesImage at 0x1f20e036a20>"
      ]
     },
     "execution_count": 21,
     "metadata": {},
     "output_type": "execute_result"
    },
    {
     "data": {
      "image/png": "[encoded data removed]",
      "text/plain": [
       "<Figure size 432x288 with 1 Axes>"
      ]
     },
     "metadata": {},
     "output_type": "display_data"
    }
   ],
   "source": [
    "# take a look at the first augmented image in the set\n",
    "#for (i, data) in enumerate(images_aug):\n",
    "aug_img = Image.fromarray(images_aug[0],\"RGB\")\n",
    "plt.imshow(aug_img)"
   ]
  },
  {
   "cell_type": "code",
   "execution_count": 22,
   "metadata": {},
   "outputs": [
    {
     "name": "stdout",
     "output_type": "stream",
     "text": [
      "Training...\n",
      "Training status: Training\n",
      "Training status: Training\n",
      "Training status: Training\n",
      "Training status: Training\n",
      "Training status: Training\n",
      "Training status: Training\n",
      "Training status: Training\n",
      "Training status: Training\n",
      "Training status: Training\n",
      "Training status: Training\n",
      "Training status: Training\n",
      "Training status: Training\n",
      "Training status: Completed\n",
      "Done!\n"
     ]
    }
   ],
   "source": [
    "print (\"Training...\")\n",
    "iteration = trainer.train_project(project.id)\n",
    "while (iteration.status == \"Training\"):\n",
    "    iteration = trainer.get_iteration(project.id, iteration.id)\n",
    "    print (\"Training status: \" + iteration.status)\n",
    "    time.sleep(1)\n",
    "\n",
    "# The iteration is now trained. Make it the default project endpoint\n",
    "trainer.update_iteration(project.id, iteration.id, is_default=True)\n",
    "iteration_id = iteration.id\n",
    "print (\"Done!\")"
   ]
  },
  {
   "cell_type": "code",
   "execution_count": 23,
   "metadata": {},
   "outputs": [],
   "source": [
    "testFileName = img_dir+sep+'test.jpg'\n",
    "test_img_url = 'https://assets.saatchiart.com/saatchi/115660/art/1395178/665832-8.jpg'\n",
    "with urllib.request.urlopen(test_img_url) as response, open(testFileName, 'wb') as out_file:\n",
    "        data = response.read() # a `bytes` object\n",
    "        out_file.write(data)\n",
    "        \n",
    "resize_eq(testFileName)"
   ]
  },
  {
   "cell_type": "code",
   "execution_count": 24,
   "metadata": {},
   "outputs": [
    {
     "name": "stdout",
     "output_type": "stream",
     "text": [
      "\tfantail: 99.99%\n",
      "\ttui: 1.56%\n",
      "\tkea: 0.11%\n",
      "\tkiwi: 0.05%\n",
      "\tkokako: 0.01%\n",
      "\tkakapo: 0.00%\n",
      "\tkaka: 0.00%\n",
      "\tcockatoo: 0.00%\n",
      "\tmorepork: 0.00%\n"
     ]
    }
   ],
   "source": [
    "# Now there is a trained endpoint that can be used to make a prediction\n",
    "predictor = prediction_endpoint.PredictionEndpoint(prediction_key)\n",
    "\n",
    "# Open the sample image and get back the prediction results.\n",
    "with open(testFileName, mode=\"rb\") as test_data:\n",
    "    results = predictor.predict_image(project_id, test_data.read(), iteration_id)\n",
    "\n",
    "# Display the results.\n",
    "for prediction in results.predictions:\n",
    "    print (\"\\t\" + prediction.tag + \": {0:.2f}%\".format(prediction.probability * 100))"
   ]
  },
  {
   "cell_type": "code",
   "execution_count": 25,
   "metadata": {},
   "outputs": [
    {
     "name": "stdout",
     "output_type": "stream",
     "text": [
      "[INFO] processed 100/135\n",
      "6\n",
      "0.9555555555555556\n"
     ]
    }
   ],
   "source": [
    "y_actu = []\n",
    "y_pred = []\n",
    "miscalc = 0\n",
    "\n",
    "for (i, data) in enumerate(testData):\n",
    "    tagname = le.classes_[testLabels[i]]\n",
    "    imagePath = test_dir+sep+tagname+sep+uuid.uuid4().hex+\".jpg\"\n",
    "    out = Image.fromarray(data.reshape(final_dim,final_dim,3),\"RGB\").save(imagePath)\n",
    "    with open(os.fsdecode(imagePath), mode=\"rb\") as img_data: \n",
    "        results = predictor.predict_image(project_id, img_data.read(), iteration_id)\n",
    "        y_pred.append(le.classes_.tolist().index(results.predictions[0].tag))\n",
    "        y_actu.append(testLabels[i])\n",
    "        if (results.predictions[0].tag!=tagname):\n",
    "            miscalc = miscalc+1\n",
    "        \n",
    "    #if os.path.isfile(imagePath):\n",
    "    #    os.remove(imagePath)\n",
    "        \n",
    "    # show an update every 100 images\n",
    "    if i > 0 and i % 100 == 0:\n",
    "        #print(\"[INFO] processed {}/{}\".format(i, len(imagePaths)))\n",
    "        print(\"[INFO] processed {}/{}\".format(i, len(testData)))\n",
    "\n",
    "print(miscalc)\n",
    "print(1-(miscalc/len(testData)))"
   ]
  },
  {
   "cell_type": "code",
   "execution_count": 26,
   "metadata": {},
   "outputs": [],
   "source": [
    "def plot_confusion_matrix(cm, classes,\n",
    "                          normalize=False,\n",
    "                          title='Confusion matrix',\n",
    "                          cmap=plt.cm.Blues):\n",
    "    \"\"\"\n",
    "    This function prints and plots the confusion matrix.\n",
    "    Normalization can be applied by setting `normalize=True`.\n",
    "    \"\"\"\n",
    "    if normalize:\n",
    "        cm = cm.astype('float') / cm.sum(axis=1)[:, np.newaxis]\n",
    "        print(\"Normalized confusion matrix\")\n",
    "    else:\n",
    "        print('Confusion matrix, without normalization')\n",
    "\n",
    "    print(cm)\n",
    "\n",
    "    plt.imshow(cm, interpolation='nearest', cmap=cmap)\n",
    "    plt.title(title)\n",
    "    plt.colorbar()\n",
    "    tick_marks = np.arange(len(classes))\n",
    "    plt.xticks(tick_marks, classes, rotation=45)\n",
    "    plt.yticks(tick_marks, classes)\n",
    "\n",
    "    fmt = '.2f' if normalize else 'd'\n",
    "    thresh = cm.max() / 2.\n",
    "    for i, j in itertools.product(range(cm.shape[0]), range(cm.shape[1])):\n",
    "        plt.text(j, i, format(cm[i, j], fmt),\n",
    "                 horizontalalignment=\"center\",\n",
    "                 color=\"white\" if cm[i, j] > thresh else \"black\")\n",
    "\n",
    "    plt.tight_layout()\n",
    "    plt.ylabel('Actual label')\n",
    "    plt.xlabel('Predicted label')"
   ]
  },
  {
   "cell_type": "code",
   "execution_count": 27,
   "metadata": {},
   "outputs": [
    {
     "name": "stdout",
     "output_type": "stream",
     "text": [
      "             precision    recall  f1-score   support\n",
      "\n",
      "   cockatoo       0.87      1.00      0.93        13\n",
      "    fantail       1.00      1.00      1.00        19\n",
      "       kaka       0.86      1.00      0.92        12\n",
      "     kakapo       0.89      0.89      0.89         9\n",
      "        kea       1.00      0.86      0.92        14\n",
      "       kiwi       1.00      1.00      1.00        17\n",
      "     kokako       0.92      0.92      0.92        13\n",
      "   morepork       1.00      0.96      0.98        25\n",
      "        tui       1.00      0.92      0.96        13\n",
      "\n",
      "avg / total       0.96      0.96      0.96       135\n",
      "\n",
      "Normalized confusion matrix\n",
      "[[1.   0.   0.   0.   0.   0.   0.   0.   0.  ]\n",
      " [0.   1.   0.   0.   0.   0.   0.   0.   0.  ]\n",
      " [0.   0.   1.   0.   0.   0.   0.   0.   0.  ]\n",
      " [0.11 0.   0.   0.89 0.   0.   0.   0.   0.  ]\n",
      " [0.   0.   0.14 0.   0.86 0.   0.   0.   0.  ]\n",
      " [0.   0.   0.   0.   0.   1.   0.   0.   0.  ]\n",
      " [0.08 0.   0.   0.   0.   0.   0.92 0.   0.  ]\n",
      " [0.   0.   0.   0.04 0.   0.   0.   0.96 0.  ]\n",
      " [0.   0.   0.   0.   0.   0.   0.08 0.   0.92]]\n"
     ]
    },
    {
     "data": {
      "image/png": "[encoded data removed]",
      "text/plain": [
       "<Figure size 432x288 with 2 Axes>"
      ]
     },
     "metadata": {},
     "output_type": "display_data"
    }
   ],
   "source": [
    "print(classification_report(y_actu, y_pred, target_names=le.classes_))\n",
    "\n",
    "# Compute confusion matrix\n",
    "cnf_matrix = confusion_matrix(y_actu, y_pred)\n",
    "np.set_printoptions(precision=2)\n",
    "\n",
    "# Plot normalized confusion matrix\n",
    "plot_confusion_matrix(cnf_matrix, classes=le.classes_, normalize=True,\n",
    "                      title='Normalized confusion matrix')\n",
    "\n",
    "plt.show()"
   ]
  },
  {
   "cell_type": "code",
   "execution_count": 28,
   "metadata": {},
   "outputs": [
    {
     "name": "stdout",
     "output_type": "stream",
     "text": [
      "Building CoreML Model\n",
      "writing file data\\anzbirds_images_test_train\\model\\7b91ed5c25fa4e998b08079a0ac56879.mlmodel\n"
     ]
    }
   ],
   "source": [
    "#https://docs.microsoft.com/en-us/python/api/azure.cognitiveservices.vision.customvision?view=azure-python\n",
    "    \n",
    "modelNm = uuid.uuid4().hex+\".mlmodel\"\n",
    "exports = trainer.get_exports(project_id, iteration_id)\n",
    "\n",
    "if (len(exports)==0):\n",
    "    # no model has been exported yet we need to export a coreml model.\n",
    "    print(\"Building CoreML Model\")\n",
    "    trainer.export_iteration(project_id, iteration_id, 'CoreML')\n",
    "    exports = trainer.get_exports(project_id, iteration_id)\n",
    "\n",
    "for (i, export) in enumerate(exports):\n",
    "    if(export.status=='Done'):\n",
    "        if(export.platform=='CoreML'):\n",
    "            print('writing file {}'.format(model_dir+sep+modelNm))\n",
    "            with urllib.request.urlopen(export.download_uri) as response, open(model_dir+sep+modelNm, 'wb') as out_file:\n",
    "                data = response.read() # a `bytes` object\n",
    "                out_file.write(data)"
   ]
  },
  {
   "cell_type": "markdown",
   "metadata": {},
   "source": [
    "mkdir coremltools\n",
    "\n",
    "git clone --recursive https://github.com/apple/coremltools.git\n",
    "\n",
    "pip install -e coremltools/\n",
    "\n",
    "pip install -U winmltools"
   ]
  },
  {
   "cell_type": "code",
   "execution_count": 29,
   "metadata": {},
   "outputs": [
    {
     "name": "stdout",
     "output_type": "stream",
     "text": [
      "writing file data\\anzbirds_images_test_train\\model\\7b91ed5c25fa4e998b08079a0ac56879.onnx\n"
     ]
    }
   ],
   "source": [
    "# Load model file\n",
    "model_coreml = load_spec(model_dir+sep+modelNm)\n",
    "\n",
    "# Convert it!\n",
    "# The automatic code generator (mlgen) uses the name parameter to generate class names.\n",
    "model_onnx = convert_coreml(model_coreml, name=projectName+'Model')\n",
    "\n",
    "# Save the produced ONNX model in binary format\n",
    "print('writing file {}'.format(model_dir+sep+modelNm.replace(\".mlmodel\", \".onnx\")))\n",
    "save_model(model_onnx, model_dir+sep+modelNm.replace(\".mlmodel\", \".onnx\"))"
   ]
  }
 ],
 "metadata": {
  "kernelspec": {
   "display_name": "python3.5",
   "language": "python",
   "name": "python3.5"
  },
  "language_info": {
   "codemirror_mode": {
    "name": "ipython",
    "version": 3
   },
   "file_extension": ".py",
   "mimetype": "text/x-python",
   "name": "python",
   "nbconvert_exporter": "python",
   "pygments_lexer": "ipython3",
   "version": "3.5.5"
  }
 },
 "nbformat": 4,
 "nbformat_minor": 2
}
